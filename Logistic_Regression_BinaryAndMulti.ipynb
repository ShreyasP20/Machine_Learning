{
  "nbformat": 4,
  "nbformat_minor": 0,
  "metadata": {
    "colab": {
      "provenance": [],
      "authorship_tag": "ABX9TyOxAZcFiI2YzYnZYHEOrOHw",
      "include_colab_link": true
    },
    "kernelspec": {
      "name": "python3",
      "display_name": "Python 3"
    },
    "language_info": {
      "name": "python"
    }
  },
  "cells": [
    {
      "cell_type": "markdown",
      "metadata": {
        "id": "view-in-github",
        "colab_type": "text"
      },
      "source": [
        "<a href=\"https://colab.research.google.com/github/ShreyasP20/Machine_Learning/blob/main/Logistic_Regression_BinaryAndMulti.ipynb\" target=\"_parent\"><img src=\"https://colab.research.google.com/assets/colab-badge.svg\" alt=\"Open In Colab\"/></a>"
      ]
    },
    {
      "cell_type": "markdown",
      "source": [
        "### One-vs-rest (OvR) for short, also referred to as One-vs-All (OvA) is a heuristic method for using binary classification algorithms for multi-class classification"
      ],
      "metadata": {
        "id": "DR5Zski5OZj-"
      }
    },
    {
      "cell_type": "code",
      "execution_count": null,
      "metadata": {
        "colab": {
          "base_uri": "https://localhost:8080/"
        },
        "id": "hsEmdO0MM4LD",
        "outputId": "90aeb427-e251-4ad4-fcca-c6c47e861275"
      },
      "outputs": [
        {
          "output_type": "stream",
          "name": "stdout",
          "text": [
            "Model Accuracy: 0.696\n"
          ]
        }
      ],
      "source": [
        "from sklearn.datasets import make_classification\n",
        "from sklearn.linear_model import LogisticRegression\n",
        "\n",
        "X, y = make_classification(n_samples=1000, n_features=10, n_informative=5, n_redundant=5, n_classes=3, random_state=1)\n",
        "\n",
        "model = LogisticRegression(multi_class='ovr')\n",
        "\n",
        "model.fit(X, y)\n",
        "\n",
        "# make predictions\n",
        "yhat = model.predict(X)\n",
        "print(\"Model Accuracy:\", model.score(X,y))"
      ]
    },
    {
      "cell_type": "markdown",
      "source": [
        "The support vector machine implementation in the scikit-learn is provided by the SVC class and supports the one-vs-one method for multi-class classification problems. This can be achieved by setting the “decision_function_shape” argument to ‘ovo‘.\n"
      ],
      "metadata": {
        "id": "5hXcBmNbUZ1X"
      }
    },
    {
      "cell_type": "code",
      "source": [
        "\n",
        "from sklearn.datasets import make_classification\n",
        "from sklearn.svm import SVC\n",
        "\n",
        "X, y = make_classification(n_samples=1000, n_features=10, n_informative=5, n_redundant=5, n_classes=3, random_state=1)\n",
        "\n",
        "model = SVC(decision_function_shape='ovo')\n",
        "\n",
        "model.fit(X, y)\n",
        "\n",
        "yhat = model.predict(X)\n",
        "\n",
        "print(\"Model Accuracy:\", model.score(X,y))"
      ],
      "metadata": {
        "colab": {
          "base_uri": "https://localhost:8080/"
        },
        "id": "giprVnOuT62_",
        "outputId": "4dfa66fd-16ad-4ef3-f413-9ef2a0cdb739"
      },
      "execution_count": null,
      "outputs": [
        {
          "output_type": "stream",
          "name": "stdout",
          "text": [
            "Model Accuracy: 0.89\n"
          ]
        }
      ]
    }
  ]
}