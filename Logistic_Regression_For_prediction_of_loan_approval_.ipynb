{
  "cells": [
    {
      "cell_type": "markdown",
      "metadata": {
        "id": "view-in-github",
        "colab_type": "text"
      },
      "source": [
        "<a href=\"https://colab.research.google.com/github/ShreyasP20/Machine_Learning/blob/main/Logistic_Regression_For_prediction_of_loan_approval_.ipynb\" target=\"_parent\"><img src=\"https://colab.research.google.com/assets/colab-badge.svg\" alt=\"Open In Colab\"/></a>"
      ]
    },
    {
      "cell_type": "code",
      "execution_count": null,
      "id": "6b1ca580",
      "metadata": {
        "execution": {
          "iopub.execute_input": "2023-11-20T14:31:19.583809Z",
          "iopub.status.busy": "2023-11-20T14:31:19.583031Z",
          "iopub.status.idle": "2023-11-20T14:31:23.219396Z",
          "shell.execute_reply": "2023-11-20T14:31:23.216768Z"
        },
        "papermill": {
          "duration": 3.648735,
          "end_time": "2023-11-20T14:31:23.222086",
          "exception": false,
          "start_time": "2023-11-20T14:31:19.573351",
          "status": "completed"
        },
        "tags": [],
        "id": "6b1ca580",
        "outputId": "ef6500c5-f34b-4b6d-f5f6-b524cf9a08bc"
      },
      "outputs": [
        {
          "data": {
            "text/html": [
              "<div>\n",
              "<style scoped>\n",
              "    .dataframe tbody tr th:only-of-type {\n",
              "        vertical-align: middle;\n",
              "    }\n",
              "\n",
              "    .dataframe tbody tr th {\n",
              "        vertical-align: top;\n",
              "    }\n",
              "\n",
              "    .dataframe thead th {\n",
              "        text-align: right;\n",
              "    }\n",
              "</style>\n",
              "<table border=\"1\" class=\"dataframe\">\n",
              "  <thead>\n",
              "    <tr style=\"text-align: right;\">\n",
              "      <th></th>\n",
              "      <th>no_of_dependents</th>\n",
              "      <th>education</th>\n",
              "      <th>self_employed</th>\n",
              "      <th>income_annum</th>\n",
              "      <th>loan_amount</th>\n",
              "      <th>loan_term</th>\n",
              "      <th>cibil_score</th>\n",
              "      <th>residential_assets_value</th>\n",
              "      <th>commercial_assets_value</th>\n",
              "      <th>luxury_assets_value</th>\n",
              "      <th>bank_asset_value</th>\n",
              "      <th>loan_status</th>\n",
              "    </tr>\n",
              "    <tr>\n",
              "      <th>loan_id</th>\n",
              "      <th></th>\n",
              "      <th></th>\n",
              "      <th></th>\n",
              "      <th></th>\n",
              "      <th></th>\n",
              "      <th></th>\n",
              "      <th></th>\n",
              "      <th></th>\n",
              "      <th></th>\n",
              "      <th></th>\n",
              "      <th></th>\n",
              "      <th></th>\n",
              "    </tr>\n",
              "  </thead>\n",
              "  <tbody>\n",
              "    <tr>\n",
              "      <th>1</th>\n",
              "      <td>2</td>\n",
              "      <td>Graduate</td>\n",
              "      <td>No</td>\n",
              "      <td>9600000</td>\n",
              "      <td>29900000</td>\n",
              "      <td>12</td>\n",
              "      <td>778</td>\n",
              "      <td>2400000</td>\n",
              "      <td>17600000</td>\n",
              "      <td>22700000</td>\n",
              "      <td>8000000</td>\n",
              "      <td>Approved</td>\n",
              "    </tr>\n",
              "    <tr>\n",
              "      <th>2</th>\n",
              "      <td>0</td>\n",
              "      <td>Not Graduate</td>\n",
              "      <td>Yes</td>\n",
              "      <td>4100000</td>\n",
              "      <td>12200000</td>\n",
              "      <td>8</td>\n",
              "      <td>417</td>\n",
              "      <td>2700000</td>\n",
              "      <td>2200000</td>\n",
              "      <td>8800000</td>\n",
              "      <td>3300000</td>\n",
              "      <td>Rejected</td>\n",
              "    </tr>\n",
              "    <tr>\n",
              "      <th>3</th>\n",
              "      <td>3</td>\n",
              "      <td>Graduate</td>\n",
              "      <td>No</td>\n",
              "      <td>9100000</td>\n",
              "      <td>29700000</td>\n",
              "      <td>20</td>\n",
              "      <td>506</td>\n",
              "      <td>7100000</td>\n",
              "      <td>4500000</td>\n",
              "      <td>33300000</td>\n",
              "      <td>12800000</td>\n",
              "      <td>Rejected</td>\n",
              "    </tr>\n",
              "    <tr>\n",
              "      <th>4</th>\n",
              "      <td>3</td>\n",
              "      <td>Graduate</td>\n",
              "      <td>No</td>\n",
              "      <td>8200000</td>\n",
              "      <td>30700000</td>\n",
              "      <td>8</td>\n",
              "      <td>467</td>\n",
              "      <td>18200000</td>\n",
              "      <td>3300000</td>\n",
              "      <td>23300000</td>\n",
              "      <td>7900000</td>\n",
              "      <td>Rejected</td>\n",
              "    </tr>\n",
              "    <tr>\n",
              "      <th>5</th>\n",
              "      <td>5</td>\n",
              "      <td>Not Graduate</td>\n",
              "      <td>Yes</td>\n",
              "      <td>9800000</td>\n",
              "      <td>24200000</td>\n",
              "      <td>20</td>\n",
              "      <td>382</td>\n",
              "      <td>12400000</td>\n",
              "      <td>8200000</td>\n",
              "      <td>29400000</td>\n",
              "      <td>5000000</td>\n",
              "      <td>Rejected</td>\n",
              "    </tr>\n",
              "    <tr>\n",
              "      <th>...</th>\n",
              "      <td>...</td>\n",
              "      <td>...</td>\n",
              "      <td>...</td>\n",
              "      <td>...</td>\n",
              "      <td>...</td>\n",
              "      <td>...</td>\n",
              "      <td>...</td>\n",
              "      <td>...</td>\n",
              "      <td>...</td>\n",
              "      <td>...</td>\n",
              "      <td>...</td>\n",
              "      <td>...</td>\n",
              "    </tr>\n",
              "    <tr>\n",
              "      <th>4265</th>\n",
              "      <td>5</td>\n",
              "      <td>Graduate</td>\n",
              "      <td>Yes</td>\n",
              "      <td>1000000</td>\n",
              "      <td>2300000</td>\n",
              "      <td>12</td>\n",
              "      <td>317</td>\n",
              "      <td>2800000</td>\n",
              "      <td>500000</td>\n",
              "      <td>3300000</td>\n",
              "      <td>800000</td>\n",
              "      <td>Rejected</td>\n",
              "    </tr>\n",
              "    <tr>\n",
              "      <th>4266</th>\n",
              "      <td>0</td>\n",
              "      <td>Not Graduate</td>\n",
              "      <td>Yes</td>\n",
              "      <td>3300000</td>\n",
              "      <td>11300000</td>\n",
              "      <td>20</td>\n",
              "      <td>559</td>\n",
              "      <td>4200000</td>\n",
              "      <td>2900000</td>\n",
              "      <td>11000000</td>\n",
              "      <td>1900000</td>\n",
              "      <td>Approved</td>\n",
              "    </tr>\n",
              "    <tr>\n",
              "      <th>4267</th>\n",
              "      <td>2</td>\n",
              "      <td>Not Graduate</td>\n",
              "      <td>No</td>\n",
              "      <td>6500000</td>\n",
              "      <td>23900000</td>\n",
              "      <td>18</td>\n",
              "      <td>457</td>\n",
              "      <td>1200000</td>\n",
              "      <td>12400000</td>\n",
              "      <td>18100000</td>\n",
              "      <td>7300000</td>\n",
              "      <td>Rejected</td>\n",
              "    </tr>\n",
              "    <tr>\n",
              "      <th>4268</th>\n",
              "      <td>1</td>\n",
              "      <td>Not Graduate</td>\n",
              "      <td>No</td>\n",
              "      <td>4100000</td>\n",
              "      <td>12800000</td>\n",
              "      <td>8</td>\n",
              "      <td>780</td>\n",
              "      <td>8200000</td>\n",
              "      <td>700000</td>\n",
              "      <td>14100000</td>\n",
              "      <td>5800000</td>\n",
              "      <td>Approved</td>\n",
              "    </tr>\n",
              "    <tr>\n",
              "      <th>4269</th>\n",
              "      <td>1</td>\n",
              "      <td>Graduate</td>\n",
              "      <td>No</td>\n",
              "      <td>9200000</td>\n",
              "      <td>29700000</td>\n",
              "      <td>10</td>\n",
              "      <td>607</td>\n",
              "      <td>17800000</td>\n",
              "      <td>11800000</td>\n",
              "      <td>35700000</td>\n",
              "      <td>12000000</td>\n",
              "      <td>Approved</td>\n",
              "    </tr>\n",
              "  </tbody>\n",
              "</table>\n",
              "<p>4269 rows × 12 columns</p>\n",
              "</div>"
            ],
            "text/plain": [
              "          no_of_dependents      education  self_employed   income_annum  \\\n",
              "loan_id                                                                   \n",
              "1                        2       Graduate             No        9600000   \n",
              "2                        0   Not Graduate            Yes        4100000   \n",
              "3                        3       Graduate             No        9100000   \n",
              "4                        3       Graduate             No        8200000   \n",
              "5                        5   Not Graduate            Yes        9800000   \n",
              "...                    ...            ...            ...            ...   \n",
              "4265                     5       Graduate            Yes        1000000   \n",
              "4266                     0   Not Graduate            Yes        3300000   \n",
              "4267                     2   Not Graduate             No        6500000   \n",
              "4268                     1   Not Graduate             No        4100000   \n",
              "4269                     1       Graduate             No        9200000   \n",
              "\n",
              "          loan_amount   loan_term   cibil_score   residential_assets_value  \\\n",
              "loan_id                                                                      \n",
              "1            29900000          12           778                    2400000   \n",
              "2            12200000           8           417                    2700000   \n",
              "3            29700000          20           506                    7100000   \n",
              "4            30700000           8           467                   18200000   \n",
              "5            24200000          20           382                   12400000   \n",
              "...               ...         ...           ...                        ...   \n",
              "4265          2300000          12           317                    2800000   \n",
              "4266         11300000          20           559                    4200000   \n",
              "4267         23900000          18           457                    1200000   \n",
              "4268         12800000           8           780                    8200000   \n",
              "4269         29700000          10           607                   17800000   \n",
              "\n",
              "          commercial_assets_value   luxury_assets_value   bank_asset_value  \\\n",
              "loan_id                                                                      \n",
              "1                        17600000              22700000            8000000   \n",
              "2                         2200000               8800000            3300000   \n",
              "3                         4500000              33300000           12800000   \n",
              "4                         3300000              23300000            7900000   \n",
              "5                         8200000              29400000            5000000   \n",
              "...                           ...                   ...                ...   \n",
              "4265                       500000               3300000             800000   \n",
              "4266                      2900000              11000000            1900000   \n",
              "4267                     12400000              18100000            7300000   \n",
              "4268                       700000              14100000            5800000   \n",
              "4269                     11800000              35700000           12000000   \n",
              "\n",
              "         loan_status  \n",
              "loan_id               \n",
              "1           Approved  \n",
              "2           Rejected  \n",
              "3           Rejected  \n",
              "4           Rejected  \n",
              "5           Rejected  \n",
              "...              ...  \n",
              "4265        Rejected  \n",
              "4266        Approved  \n",
              "4267        Rejected  \n",
              "4268        Approved  \n",
              "4269        Approved  \n",
              "\n",
              "[4269 rows x 12 columns]"
            ]
          },
          "execution_count": 1,
          "metadata": {},
          "output_type": "execute_result"
        }
      ],
      "source": [
        "import pandas as pd\n",
        "import numpy as np\n",
        "import seaborn as sns\n",
        "import sklearn\n",
        "import statsmodels.api as sm\n",
        "from sklearn import metrics\n",
        "from sklearn.model_selection import train_test_split\n",
        "from sklearn.linear_model import LogisticRegression\n",
        "from sklearn.metrics import classification_report\n",
        "from sklearn.metrics import confusion_matrix\n",
        "from sklearn.metrics import accuracy_score\n",
        "import os\n",
        "\n",
        "df = pd.read_csv('/kaggle/input/loan-approval-prediction-dataset/loan_approval_dataset.csv',index_col = 0)\n",
        "df"
      ]
    },
    {
      "cell_type": "code",
      "execution_count": null,
      "id": "fd4a56d3",
      "metadata": {
        "execution": {
          "iopub.execute_input": "2023-11-20T14:31:23.242323Z",
          "iopub.status.busy": "2023-11-20T14:31:23.241645Z",
          "iopub.status.idle": "2023-11-20T14:31:23.304414Z",
          "shell.execute_reply": "2023-11-20T14:31:23.303406Z"
        },
        "papermill": {
          "duration": 0.076727,
          "end_time": "2023-11-20T14:31:23.307643",
          "exception": false,
          "start_time": "2023-11-20T14:31:23.230916",
          "status": "completed"
        },
        "tags": [],
        "id": "fd4a56d3",
        "outputId": "4d21963d-5238-4d5a-fda5-5a0b1c69cc8d"
      },
      "outputs": [
        {
          "name": "stdout",
          "output_type": "stream",
          "text": [
            "***null data***\n",
            " no_of_dependents            0\n",
            " income_annum                0\n",
            " loan_amount                 0\n",
            " loan_term                   0\n",
            " cibil_score                 0\n",
            " residential_assets_value    0\n",
            " commercial_assets_value     0\n",
            " luxury_assets_value         0\n",
            " bank_asset_value            0\n",
            "graduate_processed           0\n",
            "self_employed_processed      0\n",
            "loan_status_processed        0\n",
            "dtype: int64\n",
            "***Data post cleaning***\n",
            "(4269, 12)\n",
            "***Columns***\n",
            "Index([' no_of_dependents', ' income_annum', ' loan_amount', ' loan_term',\n",
            "       ' cibil_score', ' residential_assets_value', ' commercial_assets_value',\n",
            "       ' luxury_assets_value', ' bank_asset_value', 'graduate_processed',\n",
            "       'self_employed_processed', 'loan_status_processed'],\n",
            "      dtype='object')\n"
          ]
        }
      ],
      "source": [
        "#Data Cleaning, removing of white space\n",
        "df = df.applymap(lambda x: x.strip() if isinstance(x, str) else x)\n",
        "\n",
        "#Reclassification off graduation, loan status and self employed to 1 and 0\n",
        "df['graduate_processed'] = df[' education'].map({'Graduate': 1, 'Not Graduate': 0})\n",
        "df['self_employed_processed'] = df[' self_employed'].map({'Yes': 1, 'No': 0})\n",
        "df['loan_status_processed'] = df[' loan_status'].map({'Approved': 1, 'Rejected': 0})\n",
        "\n",
        "#Drop redundant columns not for regression\n",
        "df.drop(columns=[' education', ' self_employed',' loan_status'],inplace=True)\n",
        "\n",
        "#Check completeness of data\n",
        "print('***null data***')\n",
        "print(df.isnull().sum())\n",
        "print('***Data post cleaning***')\n",
        "print(df.shape)\n",
        "print('***Columns***')\n",
        "print(df.columns)\n"
      ]
    },
    {
      "cell_type": "markdown",
      "id": "c26fe581",
      "metadata": {
        "papermill": {
          "duration": 0.008506,
          "end_time": "2023-11-20T14:31:23.325753",
          "exception": false,
          "start_time": "2023-11-20T14:31:23.317247",
          "status": "completed"
        },
        "tags": [],
        "id": "c26fe581"
      },
      "source": [
        "**Part 1: Logistic Regression**"
      ]
    },
    {
      "cell_type": "code",
      "execution_count": null,
      "id": "9aa7a600",
      "metadata": {
        "execution": {
          "iopub.execute_input": "2023-11-20T14:31:23.345258Z",
          "iopub.status.busy": "2023-11-20T14:31:23.344879Z",
          "iopub.status.idle": "2023-11-20T14:31:23.356500Z",
          "shell.execute_reply": "2023-11-20T14:31:23.354984Z"
        },
        "papermill": {
          "duration": 0.024257,
          "end_time": "2023-11-20T14:31:23.358711",
          "exception": false,
          "start_time": "2023-11-20T14:31:23.334454",
          "status": "completed"
        },
        "tags": [],
        "id": "9aa7a600",
        "outputId": "c5a72a93-1840-4295-84bb-ad1366ddf627"
      },
      "outputs": [
        {
          "name": "stdout",
          "output_type": "stream",
          "text": [
            "***Train Data***\n",
            "(3415, 11)\n",
            "***Test Data***\n",
            "(854, 11)\n"
          ]
        }
      ],
      "source": [
        "#Define X and Y Variables\n",
        "X = df.drop(columns=['loan_status_processed'])\n",
        "y = df['loan_status_processed']\n",
        "\n",
        "#Train Split\n",
        "X_train, X_test, y_train, y_test = sklearn.model_selection.train_test_split(X, y, test_size = 0.2, random_state = 5)\n",
        "\n",
        "print('***Train Data***')\n",
        "print(X_train.shape)\n",
        "print('***Test Data***')\n",
        "print(X_test.shape)"
      ]
    },
    {
      "cell_type": "code",
      "execution_count": null,
      "id": "3329947b",
      "metadata": {
        "execution": {
          "iopub.execute_input": "2023-11-20T14:31:23.378981Z",
          "iopub.status.busy": "2023-11-20T14:31:23.378546Z",
          "iopub.status.idle": "2023-11-20T14:31:23.468224Z",
          "shell.execute_reply": "2023-11-20T14:31:23.466720Z"
        },
        "papermill": {
          "duration": 0.105392,
          "end_time": "2023-11-20T14:31:23.473112",
          "exception": false,
          "start_time": "2023-11-20T14:31:23.367720",
          "status": "completed"
        },
        "tags": [],
        "id": "3329947b",
        "outputId": "5cc49aba-4fac-4347-aa80-eaec0eadf3f0"
      },
      "outputs": [
        {
          "name": "stdout",
          "output_type": "stream",
          "text": [
            "Intercept: [1.7278216e-06]\n",
            "Coefficients: [[ 3.63254419e-06 -5.06970945e-07  5.70882453e-08  4.81714292e-06\n",
            "   4.06628939e-03 -2.83601693e-09  1.73054946e-08  8.05267492e-09\n",
            "   1.72308935e-08  8.18874335e-07  8.98289454e-07]]\n",
            "Accuracy: 0.7177985948477752\n"
          ]
        }
      ],
      "source": [
        "#First regression model without manipulation\n",
        "model1 = LogisticRegression(max_iter=1000,random_state=0).fit(X_train, y_train)\n",
        "print('Intercept:', model1.intercept_)\n",
        "print('Coefficients:', model1.coef_)\n",
        "print('Accuracy:',model1.score(X_test,y_test))\n",
        "\n",
        "#Accuracy of 71% is not bad!"
      ]
    },
    {
      "cell_type": "code",
      "execution_count": null,
      "id": "fd0a3730",
      "metadata": {
        "execution": {
          "iopub.execute_input": "2023-11-20T14:31:23.513859Z",
          "iopub.status.busy": "2023-11-20T14:31:23.513136Z",
          "iopub.status.idle": "2023-11-20T14:31:23.543147Z",
          "shell.execute_reply": "2023-11-20T14:31:23.541691Z"
        },
        "papermill": {
          "duration": 0.055161,
          "end_time": "2023-11-20T14:31:23.547325",
          "exception": false,
          "start_time": "2023-11-20T14:31:23.492164",
          "status": "completed"
        },
        "tags": [],
        "id": "fd0a3730",
        "outputId": "b15403c1-f139-4205-dbf5-2dcebe5fdbbe"
      },
      "outputs": [
        {
          "data": {
            "text/html": [
              "<div>\n",
              "<style scoped>\n",
              "    .dataframe tbody tr th:only-of-type {\n",
              "        vertical-align: middle;\n",
              "    }\n",
              "\n",
              "    .dataframe tbody tr th {\n",
              "        vertical-align: top;\n",
              "    }\n",
              "\n",
              "    .dataframe thead th {\n",
              "        text-align: right;\n",
              "    }\n",
              "</style>\n",
              "<table border=\"1\" class=\"dataframe\">\n",
              "  <thead>\n",
              "    <tr style=\"text-align: right;\">\n",
              "      <th></th>\n",
              "      <th>predicted_approved</th>\n",
              "      <th>predicted_not_approved</th>\n",
              "    </tr>\n",
              "  </thead>\n",
              "  <tbody>\n",
              "    <tr>\n",
              "      <th>approved</th>\n",
              "      <td>124</td>\n",
              "      <td>200</td>\n",
              "    </tr>\n",
              "    <tr>\n",
              "      <th>not_approved</th>\n",
              "      <td>41</td>\n",
              "      <td>489</td>\n",
              "    </tr>\n",
              "  </tbody>\n",
              "</table>\n",
              "</div>"
            ],
            "text/plain": [
              "              predicted_approved  predicted_not_approved\n",
              "approved                     124                     200\n",
              "not_approved                  41                     489"
            ]
          },
          "execution_count": 5,
          "metadata": {},
          "output_type": "execute_result"
        }
      ],
      "source": [
        "#Print confusion matrix\n",
        "preds = model1.predict(X_test)\n",
        "confmtrx = np.array(confusion_matrix(y_test, preds))\n",
        "confusion = pd.DataFrame(confmtrx, index=['approved', 'not_approved'],\n",
        "columns=['predicted_approved', 'predicted_not_approved'])\n",
        "confusion\n",
        "\n",
        "#However, there are around 1/4-1/3 of false positive and false negative"
      ]
    },
    {
      "cell_type": "code",
      "execution_count": null,
      "id": "33440876",
      "metadata": {
        "execution": {
          "iopub.execute_input": "2023-11-20T14:31:23.589697Z",
          "iopub.status.busy": "2023-11-20T14:31:23.588969Z",
          "iopub.status.idle": "2023-11-20T14:31:23.616008Z",
          "shell.execute_reply": "2023-11-20T14:31:23.614403Z"
        },
        "papermill": {
          "duration": 0.054523,
          "end_time": "2023-11-20T14:31:23.621157",
          "exception": false,
          "start_time": "2023-11-20T14:31:23.566634",
          "status": "completed"
        },
        "tags": [],
        "id": "33440876",
        "outputId": "e9194be9-3927-4fc0-a066-d45d1b39076e"
      },
      "outputs": [
        {
          "data": {
            "text/html": [
              "<div>\n",
              "<style scoped>\n",
              "    .dataframe tbody tr th:only-of-type {\n",
              "        vertical-align: middle;\n",
              "    }\n",
              "\n",
              "    .dataframe tbody tr th {\n",
              "        vertical-align: top;\n",
              "    }\n",
              "\n",
              "    .dataframe thead th {\n",
              "        text-align: right;\n",
              "    }\n",
              "</style>\n",
              "<table border=\"1\" class=\"dataframe\">\n",
              "  <thead>\n",
              "    <tr style=\"text-align: right;\">\n",
              "      <th></th>\n",
              "      <th>Variable</th>\n",
              "      <th>Odds_ratio</th>\n",
              "    </tr>\n",
              "  </thead>\n",
              "  <tbody>\n",
              "    <tr>\n",
              "      <th>0</th>\n",
              "      <td>no_of_dependents</td>\n",
              "      <td>1.0</td>\n",
              "    </tr>\n",
              "    <tr>\n",
              "      <th>1</th>\n",
              "      <td>income_annum</td>\n",
              "      <td>1.0</td>\n",
              "    </tr>\n",
              "    <tr>\n",
              "      <th>2</th>\n",
              "      <td>loan_amount</td>\n",
              "      <td>1.0</td>\n",
              "    </tr>\n",
              "    <tr>\n",
              "      <th>3</th>\n",
              "      <td>loan_term</td>\n",
              "      <td>1.0</td>\n",
              "    </tr>\n",
              "    <tr>\n",
              "      <th>4</th>\n",
              "      <td>cibil_score</td>\n",
              "      <td>1.0</td>\n",
              "    </tr>\n",
              "    <tr>\n",
              "      <th>5</th>\n",
              "      <td>residential_assets_value</td>\n",
              "      <td>1.0</td>\n",
              "    </tr>\n",
              "    <tr>\n",
              "      <th>6</th>\n",
              "      <td>commercial_assets_value</td>\n",
              "      <td>1.0</td>\n",
              "    </tr>\n",
              "    <tr>\n",
              "      <th>7</th>\n",
              "      <td>luxury_assets_value</td>\n",
              "      <td>1.0</td>\n",
              "    </tr>\n",
              "    <tr>\n",
              "      <th>8</th>\n",
              "      <td>bank_asset_value</td>\n",
              "      <td>1.0</td>\n",
              "    </tr>\n",
              "    <tr>\n",
              "      <th>9</th>\n",
              "      <td>graduate_processed</td>\n",
              "      <td>1.0</td>\n",
              "    </tr>\n",
              "    <tr>\n",
              "      <th>10</th>\n",
              "      <td>self_employed_processed</td>\n",
              "      <td>1.0</td>\n",
              "    </tr>\n",
              "  </tbody>\n",
              "</table>\n",
              "</div>"
            ],
            "text/plain": [
              "                     Variable  Odds_ratio\n",
              "0            no_of_dependents         1.0\n",
              "1                income_annum         1.0\n",
              "2                 loan_amount         1.0\n",
              "3                   loan_term         1.0\n",
              "4                 cibil_score         1.0\n",
              "5    residential_assets_value         1.0\n",
              "6     commercial_assets_value         1.0\n",
              "7         luxury_assets_value         1.0\n",
              "8            bank_asset_value         1.0\n",
              "9          graduate_processed         1.0\n",
              "10    self_employed_processed         1.0"
            ]
          },
          "execution_count": 6,
          "metadata": {},
          "output_type": "execute_result"
        }
      ],
      "source": [
        "#odds ratio\n",
        "oddsratio = pd.DataFrame({ 'Variable':X.columns.tolist(),'Odds_ratio': (np.exp(model1.coef_).T).round(2).flatten().tolist()})\n",
        "oddsratio\n",
        "\n",
        "#Dont make sense as all is 1.0. Likely due to not scaling properly"
      ]
    },
    {
      "cell_type": "code",
      "execution_count": null,
      "id": "d2294071",
      "metadata": {
        "execution": {
          "iopub.execute_input": "2023-11-20T14:31:23.655314Z",
          "iopub.status.busy": "2023-11-20T14:31:23.654777Z",
          "iopub.status.idle": "2023-11-20T14:31:23.816563Z",
          "shell.execute_reply": "2023-11-20T14:31:23.815065Z"
        },
        "papermill": {
          "duration": 0.179902,
          "end_time": "2023-11-20T14:31:23.821913",
          "exception": false,
          "start_time": "2023-11-20T14:31:23.642011",
          "status": "completed"
        },
        "tags": [],
        "id": "d2294071",
        "outputId": "11f662f3-60a4-4674-fd50-316fdf713c1d"
      },
      "outputs": [
        {
          "name": "stdout",
          "output_type": "stream",
          "text": [
            "Optimization terminated successfully.\n",
            "         Current function value: 0.220519\n",
            "         Iterations 8\n",
            "                             Logit Regression Results                            \n",
            "=================================================================================\n",
            "Dep. Variable:     loan_status_processed   No. Observations:                 3415\n",
            "Model:                             Logit   Df Residuals:                     3403\n",
            "Method:                              MLE   Df Model:                           11\n",
            "Date:                   Mon, 20 Nov 2023   Pseudo R-squ.:                  0.6673\n",
            "Time:                           14:31:23   Log-Likelihood:                -753.07\n",
            "converged:                          True   LL-Null:                       -2263.5\n",
            "Covariance Type:               nonrobust   LLR p-value:                     0.000\n",
            "=============================================================================================\n",
            "                                coef    std err          z      P>|z|      [0.025      0.975]\n",
            "---------------------------------------------------------------------------------------------\n",
            "const                       -11.3345      0.492    -23.048      0.000     -12.298     -10.371\n",
            " no_of_dependents            -0.0380      0.039     -0.980      0.327      -0.114       0.038\n",
            " income_annum             -6.787e-07   1.03e-07     -6.586      0.000   -8.81e-07   -4.77e-07\n",
            " loan_amount               1.511e-07   2.02e-08      7.493      0.000    1.12e-07    1.91e-07\n",
            " loan_term                   -0.1537      0.013    -11.967      0.000      -0.179      -0.129\n",
            " cibil_score                  0.0249      0.001     26.444      0.000       0.023       0.027\n",
            " residential_assets_value  5.379e-09   1.31e-08      0.410      0.682   -2.03e-08    3.11e-08\n",
            " commercial_assets_value   2.326e-08   1.92e-08      1.214      0.225   -1.43e-08    6.08e-08\n",
            " luxury_assets_value        3.53e-08   1.94e-08      1.817      0.069   -2.78e-09    7.34e-08\n",
            " bank_asset_value          6.073e-08   3.68e-08      1.650      0.099   -1.14e-08    1.33e-07\n",
            "graduate_processed            0.1121      0.132      0.848      0.396      -0.147       0.371\n",
            "self_employed_processed       0.1659      0.132      1.256      0.209      -0.093       0.425\n",
            "=============================================================================================\n"
          ]
        }
      ],
      "source": [
        "logit_model=sm.Logit(y_train,sm.add_constant(X_train))\n",
        "logit_model\n",
        "result=logit_model.fit()\n",
        "stats1=result.summary()\n",
        "print(stats1)\n",
        "\n",
        "#We can see factor of importance (P>|Z|) are annual income, loan amount, loan term and cibil score!"
      ]
    },
    {
      "cell_type": "markdown",
      "id": "046c3921",
      "metadata": {
        "papermill": {
          "duration": 0.01984,
          "end_time": "2023-11-20T14:31:23.862637",
          "exception": false,
          "start_time": "2023-11-20T14:31:23.842797",
          "status": "completed"
        },
        "tags": [],
        "id": "046c3921"
      },
      "source": [
        "**Part 2 Logistic Regression with Standard scaling**"
      ]
    },
    {
      "cell_type": "code",
      "execution_count": null,
      "id": "911e2f84",
      "metadata": {
        "execution": {
          "iopub.execute_input": "2023-11-20T14:31:23.910500Z",
          "iopub.status.busy": "2023-11-20T14:31:23.908597Z",
          "iopub.status.idle": "2023-11-20T14:31:23.926162Z",
          "shell.execute_reply": "2023-11-20T14:31:23.925321Z"
        },
        "papermill": {
          "duration": 0.045585,
          "end_time": "2023-11-20T14:31:23.928662",
          "exception": false,
          "start_time": "2023-11-20T14:31:23.883077",
          "status": "completed"
        },
        "tags": [],
        "id": "911e2f84"
      },
      "outputs": [],
      "source": [
        "#Standard Scaling\n",
        "from sklearn.preprocessing import StandardScaler\n",
        "scaler = StandardScaler()\n",
        "X_train_scaled=scaler.fit_transform(X_train)\n",
        "X_test_scaled=scaler.transform(X_test) #not fit to preserve variance"
      ]
    },
    {
      "cell_type": "code",
      "execution_count": null,
      "id": "0eed3cee",
      "metadata": {
        "execution": {
          "iopub.execute_input": "2023-11-20T14:31:23.950782Z",
          "iopub.status.busy": "2023-11-20T14:31:23.949510Z",
          "iopub.status.idle": "2023-11-20T14:31:23.978953Z",
          "shell.execute_reply": "2023-11-20T14:31:23.977475Z"
        },
        "papermill": {
          "duration": 0.044447,
          "end_time": "2023-11-20T14:31:23.983112",
          "exception": false,
          "start_time": "2023-11-20T14:31:23.938665",
          "status": "completed"
        },
        "tags": [],
        "id": "0eed3cee",
        "outputId": "48b82a8b-bf75-45fe-997d-cc104fb17889"
      },
      "outputs": [
        {
          "name": "stdout",
          "output_type": "stream",
          "text": [
            "Intercept: [1.75883065]\n",
            "Coefficients: [[-0.06199442 -1.67704297  1.24200566 -0.84453041  4.15168277  0.02616445\n",
            "   0.09278711  0.25271997  0.16627169  0.05381782  0.08171827]]\n",
            "Accuracy: 0.9262295081967213\n"
          ]
        }
      ],
      "source": [
        "#Log regression\n",
        "model2 = LogisticRegression(max_iter=1000,random_state=0).fit(X_train_scaled, y_train)\n",
        "preds2 = model2.predict(X_test_scaled)\n",
        "\n",
        "print('Intercept:', model2.intercept_)\n",
        "print('Coefficients:', model2.coef_)\n",
        "print('Accuracy:',model2.score(X_test_scaled,y_test))\n",
        "\n",
        "#much higher score at 92%!"
      ]
    },
    {
      "cell_type": "code",
      "execution_count": null,
      "id": "524498d6",
      "metadata": {
        "execution": {
          "iopub.execute_input": "2023-11-20T14:31:24.026479Z",
          "iopub.status.busy": "2023-11-20T14:31:24.025708Z",
          "iopub.status.idle": "2023-11-20T14:31:24.049926Z",
          "shell.execute_reply": "2023-11-20T14:31:24.048442Z"
        },
        "papermill": {
          "duration": 0.050708,
          "end_time": "2023-11-20T14:31:24.054169",
          "exception": false,
          "start_time": "2023-11-20T14:31:24.003461",
          "status": "completed"
        },
        "tags": [],
        "id": "524498d6",
        "outputId": "35f80f1c-928b-4a0b-ee6c-5caf85a7cbad"
      },
      "outputs": [
        {
          "data": {
            "text/html": [
              "<div>\n",
              "<style scoped>\n",
              "    .dataframe tbody tr th:only-of-type {\n",
              "        vertical-align: middle;\n",
              "    }\n",
              "\n",
              "    .dataframe tbody tr th {\n",
              "        vertical-align: top;\n",
              "    }\n",
              "\n",
              "    .dataframe thead th {\n",
              "        text-align: right;\n",
              "    }\n",
              "</style>\n",
              "<table border=\"1\" class=\"dataframe\">\n",
              "  <thead>\n",
              "    <tr style=\"text-align: right;\">\n",
              "      <th></th>\n",
              "      <th>Variable</th>\n",
              "      <th>Odds_ratio</th>\n",
              "    </tr>\n",
              "  </thead>\n",
              "  <tbody>\n",
              "    <tr>\n",
              "      <th>0</th>\n",
              "      <td>no_of_dependents</td>\n",
              "      <td>0.94</td>\n",
              "    </tr>\n",
              "    <tr>\n",
              "      <th>1</th>\n",
              "      <td>income_annum</td>\n",
              "      <td>0.19</td>\n",
              "    </tr>\n",
              "    <tr>\n",
              "      <th>2</th>\n",
              "      <td>loan_amount</td>\n",
              "      <td>3.46</td>\n",
              "    </tr>\n",
              "    <tr>\n",
              "      <th>3</th>\n",
              "      <td>loan_term</td>\n",
              "      <td>0.43</td>\n",
              "    </tr>\n",
              "    <tr>\n",
              "      <th>4</th>\n",
              "      <td>cibil_score</td>\n",
              "      <td>63.54</td>\n",
              "    </tr>\n",
              "    <tr>\n",
              "      <th>5</th>\n",
              "      <td>residential_assets_value</td>\n",
              "      <td>1.03</td>\n",
              "    </tr>\n",
              "    <tr>\n",
              "      <th>6</th>\n",
              "      <td>commercial_assets_value</td>\n",
              "      <td>1.10</td>\n",
              "    </tr>\n",
              "    <tr>\n",
              "      <th>7</th>\n",
              "      <td>luxury_assets_value</td>\n",
              "      <td>1.29</td>\n",
              "    </tr>\n",
              "    <tr>\n",
              "      <th>8</th>\n",
              "      <td>bank_asset_value</td>\n",
              "      <td>1.18</td>\n",
              "    </tr>\n",
              "    <tr>\n",
              "      <th>9</th>\n",
              "      <td>graduate_processed</td>\n",
              "      <td>1.06</td>\n",
              "    </tr>\n",
              "    <tr>\n",
              "      <th>10</th>\n",
              "      <td>self_employed_processed</td>\n",
              "      <td>1.09</td>\n",
              "    </tr>\n",
              "  </tbody>\n",
              "</table>\n",
              "</div>"
            ],
            "text/plain": [
              "                     Variable  Odds_ratio\n",
              "0            no_of_dependents        0.94\n",
              "1                income_annum        0.19\n",
              "2                 loan_amount        3.46\n",
              "3                   loan_term        0.43\n",
              "4                 cibil_score       63.54\n",
              "5    residential_assets_value        1.03\n",
              "6     commercial_assets_value        1.10\n",
              "7         luxury_assets_value        1.29\n",
              "8            bank_asset_value        1.18\n",
              "9          graduate_processed        1.06\n",
              "10    self_employed_processed        1.09"
            ]
          },
          "execution_count": 10,
          "metadata": {},
          "output_type": "execute_result"
        }
      ],
      "source": [
        "#Odd ratio\n",
        "oddsratio = pd.DataFrame({ 'Variable':X.columns.tolist(),'Odds_ratio': (np.exp(model2.coef_).T).round(2).flatten().tolist()})\n",
        "oddsratio\n",
        "# cibil Score has outsized impact to loan approval, follow by annual income and loan amount"
      ]
    },
    {
      "cell_type": "code",
      "execution_count": null,
      "id": "9e19fdb9",
      "metadata": {
        "execution": {
          "iopub.execute_input": "2023-11-20T14:31:24.097867Z",
          "iopub.status.busy": "2023-11-20T14:31:24.097467Z",
          "iopub.status.idle": "2023-11-20T14:31:24.110140Z",
          "shell.execute_reply": "2023-11-20T14:31:24.109094Z"
        },
        "papermill": {
          "duration": 0.036948,
          "end_time": "2023-11-20T14:31:24.112405",
          "exception": false,
          "start_time": "2023-11-20T14:31:24.075457",
          "status": "completed"
        },
        "tags": [],
        "id": "9e19fdb9",
        "outputId": "26e43057-863b-4070-dc3b-a722f897d4a7"
      },
      "outputs": [
        {
          "data": {
            "text/html": [
              "<div>\n",
              "<style scoped>\n",
              "    .dataframe tbody tr th:only-of-type {\n",
              "        vertical-align: middle;\n",
              "    }\n",
              "\n",
              "    .dataframe tbody tr th {\n",
              "        vertical-align: top;\n",
              "    }\n",
              "\n",
              "    .dataframe thead th {\n",
              "        text-align: right;\n",
              "    }\n",
              "</style>\n",
              "<table border=\"1\" class=\"dataframe\">\n",
              "  <thead>\n",
              "    <tr style=\"text-align: right;\">\n",
              "      <th></th>\n",
              "      <th>predicted_approved</th>\n",
              "      <th>predicted_not_approved</th>\n",
              "    </tr>\n",
              "  </thead>\n",
              "  <tbody>\n",
              "    <tr>\n",
              "      <th>approved</th>\n",
              "      <td>289</td>\n",
              "      <td>35</td>\n",
              "    </tr>\n",
              "    <tr>\n",
              "      <th>not_approved</th>\n",
              "      <td>28</td>\n",
              "      <td>502</td>\n",
              "    </tr>\n",
              "  </tbody>\n",
              "</table>\n",
              "</div>"
            ],
            "text/plain": [
              "              predicted_approved  predicted_not_approved\n",
              "approved                     289                      35\n",
              "not_approved                  28                     502"
            ]
          },
          "execution_count": 11,
          "metadata": {},
          "output_type": "execute_result"
        }
      ],
      "source": [
        "confmtrx = np.array(confusion_matrix(y_test, preds2))\n",
        "confusion = pd.DataFrame(confmtrx, index=['approved', 'not_approved'],\n",
        "columns=['predicted_approved', 'predicted_not_approved'])\n",
        "confusion\n",
        "#Much better confusion matrix. recall of 91%, Precision 89%"
      ]
    },
    {
      "cell_type": "code",
      "execution_count": null,
      "id": "d79a7c3a",
      "metadata": {
        "execution": {
          "iopub.execute_input": "2023-11-20T14:31:24.135017Z",
          "iopub.status.busy": "2023-11-20T14:31:24.134572Z",
          "iopub.status.idle": "2023-11-20T14:31:24.235506Z",
          "shell.execute_reply": "2023-11-20T14:31:24.233982Z"
        },
        "papermill": {
          "duration": 0.11739,
          "end_time": "2023-11-20T14:31:24.240008",
          "exception": false,
          "start_time": "2023-11-20T14:31:24.122618",
          "status": "completed"
        },
        "tags": [],
        "id": "d79a7c3a",
        "outputId": "1d5c4462-febb-47e5-e98a-7360646dedd6"
      },
      "outputs": [
        {
          "name": "stdout",
          "output_type": "stream",
          "text": [
            "Optimization terminated successfully.\n",
            "         Current function value: 0.220519\n",
            "         Iterations 8\n",
            "                             Logit Regression Results                            \n",
            "=================================================================================\n",
            "Dep. Variable:     loan_status_processed   No. Observations:                 3415\n",
            "Model:                             Logit   Df Residuals:                     3403\n",
            "Method:                              MLE   Df Model:                           11\n",
            "Date:                   Mon, 20 Nov 2023   Pseudo R-squ.:                  0.6673\n",
            "Time:                           14:31:24   Log-Likelihood:                -753.07\n",
            "converged:                          True   LL-Null:                       -2263.5\n",
            "Covariance Type:               nonrobust   LLR p-value:                     0.000\n",
            "==============================================================================\n",
            "                 coef    std err          z      P>|z|      [0.025      0.975]\n",
            "------------------------------------------------------------------------------\n",
            "const          1.8131      0.094     19.207      0.000       1.628       1.998\n",
            "x1            -0.0643      0.066     -0.980      0.327      -0.193       0.064\n",
            "x2            -1.9075      0.290     -6.586      0.000      -2.475      -1.340\n",
            "x3             1.3659      0.182      7.493      0.000       1.009       1.723\n",
            "x4            -0.8772      0.073    -11.967      0.000      -1.021      -0.734\n",
            "x5             4.2860      0.162     26.444      0.000       3.968       4.604\n",
            "x6             0.0351      0.086      0.410      0.682      -0.133       0.203\n",
            "x7             0.1023      0.084      1.214      0.225      -0.063       0.267\n",
            "x8             0.3233      0.178      1.817      0.069      -0.025       0.672\n",
            "x9             0.1985      0.120      1.650      0.099      -0.037       0.434\n",
            "x10            0.0561      0.066      0.848      0.396      -0.074       0.186\n",
            "x11            0.0830      0.066      1.256      0.209      -0.047       0.212\n",
            "==============================================================================\n"
          ]
        }
      ],
      "source": [
        "logit_model=sm.Logit(y_train,sm.add_constant(X_train_scaled))\n",
        "logit_model\n",
        "result=logit_model.fit()\n",
        "stats1=result.summary()\n",
        "print(stats1)\n",
        "#Similarly, We can see factor of importance (P>|Z|) are annual income, loan amount, loan term and cibil score!"
      ]
    },
    {
      "cell_type": "markdown",
      "id": "448ff6f1",
      "metadata": {
        "papermill": {
          "duration": 0.022169,
          "end_time": "2023-11-20T14:31:24.290788",
          "exception": false,
          "start_time": "2023-11-20T14:31:24.268619",
          "status": "completed"
        },
        "tags": [],
        "id": "448ff6f1"
      },
      "source": [
        "**Part 3 Feature Selection**"
      ]
    },
    {
      "cell_type": "code",
      "execution_count": null,
      "id": "b4d4676e",
      "metadata": {
        "execution": {
          "iopub.execute_input": "2023-11-20T14:31:24.338186Z",
          "iopub.status.busy": "2023-11-20T14:31:24.337783Z",
          "iopub.status.idle": "2023-11-20T14:31:24.349492Z",
          "shell.execute_reply": "2023-11-20T14:31:24.348491Z"
        },
        "papermill": {
          "duration": 0.03858,
          "end_time": "2023-11-20T14:31:24.351639",
          "exception": false,
          "start_time": "2023-11-20T14:31:24.313059",
          "status": "completed"
        },
        "tags": [],
        "id": "b4d4676e",
        "outputId": "0f78c1f1-5c2b-4ead-ef7a-a4a73301bde7"
      },
      "outputs": [
        {
          "name": "stdout",
          "output_type": "stream",
          "text": [
            "Index([' income_annum', ' loan_amount', ' loan_term', ' cibil_score',\n",
            "       'Total_worth'],\n",
            "      dtype='object')\n"
          ]
        }
      ],
      "source": [
        "#Logically, worth no matter residential, commercial, luxury or bank asset contribute to personal wealth\n",
        "df['Total_worth']=df[' residential_assets_value']+df[' commercial_assets_value']+df[' luxury_assets_value']+df[' bank_asset_value']\n",
        "\n",
        "#drop un-needed columns especially columns that didnt show significance earlier\n",
        "X=df.drop(columns=[' no_of_dependents', ' residential_assets_value', ' commercial_assets_value',\n",
        "       'loan_status_processed',' luxury_assets_value',' bank_asset_value','graduate_processed', 'self_employed_processed'])\n",
        "\n",
        "#split\n",
        "X_train, X_test, y_train, y_test = sklearn.model_selection.train_test_split(X, y, test_size = 0.2, random_state = 5)\n",
        "\n",
        "#remaining columns\n",
        "print(X.columns)"
      ]
    },
    {
      "cell_type": "code",
      "execution_count": null,
      "id": "8cd495a2",
      "metadata": {
        "execution": {
          "iopub.execute_input": "2023-11-20T14:31:24.375308Z",
          "iopub.status.busy": "2023-11-20T14:31:24.374334Z",
          "iopub.status.idle": "2023-11-20T14:31:24.385847Z",
          "shell.execute_reply": "2023-11-20T14:31:24.384653Z"
        },
        "papermill": {
          "duration": 0.026429,
          "end_time": "2023-11-20T14:31:24.388867",
          "exception": false,
          "start_time": "2023-11-20T14:31:24.362438",
          "status": "completed"
        },
        "tags": [],
        "id": "8cd495a2"
      },
      "outputs": [],
      "source": [
        "#Log regression fitting\n",
        "from sklearn.preprocessing import StandardScaler\n",
        "scaler = StandardScaler()\n",
        "X_train_scaled=scaler.fit_transform(X_train)\n",
        "X_test_scaled=scaler.transform(X_test)"
      ]
    },
    {
      "cell_type": "code",
      "execution_count": null,
      "id": "f5162854",
      "metadata": {
        "execution": {
          "iopub.execute_input": "2023-11-20T14:31:24.412394Z",
          "iopub.status.busy": "2023-11-20T14:31:24.411363Z",
          "iopub.status.idle": "2023-11-20T14:31:24.441309Z",
          "shell.execute_reply": "2023-11-20T14:31:24.440186Z"
        },
        "papermill": {
          "duration": 0.045914,
          "end_time": "2023-11-20T14:31:24.445441",
          "exception": false,
          "start_time": "2023-11-20T14:31:24.399527",
          "status": "completed"
        },
        "tags": [],
        "id": "f5162854",
        "outputId": "2da75ce8-42d9-44b7-c99c-c8d76280874d"
      },
      "outputs": [
        {
          "name": "stdout",
          "output_type": "stream",
          "text": [
            "Intercept:  [1.75464033]\n",
            "Coefficients:  [[-1.50005599  1.22766259 -0.83441298  4.13811101  0.30913629]]\n",
            "Accuracy:  0.927400468384075\n"
          ]
        }
      ],
      "source": [
        "model3 = LogisticRegression(max_iter=1000,random_state=0).fit(X_train_scaled, y_train)\n",
        "preds3 = model3.predict(X_test_scaled)\n",
        "#params = model1.get_params()\n",
        "\n",
        "print('Intercept: ', model3.intercept_)\n",
        "print('Coefficients: ', model3.coef_)\n",
        "print('Accuracy: ', model3.score(X_test_scaled,y_test))\n",
        "\n",
        "#Compared to 92.62%, only minor improvement"
      ]
    },
    {
      "cell_type": "code",
      "execution_count": null,
      "id": "0cb4422a",
      "metadata": {
        "execution": {
          "iopub.execute_input": "2023-11-20T14:31:24.493581Z",
          "iopub.status.busy": "2023-11-20T14:31:24.492909Z",
          "iopub.status.idle": "2023-11-20T14:31:24.516207Z",
          "shell.execute_reply": "2023-11-20T14:31:24.512618Z"
        },
        "papermill": {
          "duration": 0.052142,
          "end_time": "2023-11-20T14:31:24.520582",
          "exception": false,
          "start_time": "2023-11-20T14:31:24.468440",
          "status": "completed"
        },
        "tags": [],
        "id": "0cb4422a",
        "outputId": "96a28be8-f116-4b03-9ce1-70032ca0af80"
      },
      "outputs": [
        {
          "data": {
            "text/html": [
              "<div>\n",
              "<style scoped>\n",
              "    .dataframe tbody tr th:only-of-type {\n",
              "        vertical-align: middle;\n",
              "    }\n",
              "\n",
              "    .dataframe tbody tr th {\n",
              "        vertical-align: top;\n",
              "    }\n",
              "\n",
              "    .dataframe thead th {\n",
              "        text-align: right;\n",
              "    }\n",
              "</style>\n",
              "<table border=\"1\" class=\"dataframe\">\n",
              "  <thead>\n",
              "    <tr style=\"text-align: right;\">\n",
              "      <th></th>\n",
              "      <th>predicted_approved</th>\n",
              "      <th>predicted_not_approved</th>\n",
              "    </tr>\n",
              "  </thead>\n",
              "  <tbody>\n",
              "    <tr>\n",
              "      <th>approved</th>\n",
              "      <td>289</td>\n",
              "      <td>35</td>\n",
              "    </tr>\n",
              "    <tr>\n",
              "      <th>not_approved</th>\n",
              "      <td>27</td>\n",
              "      <td>503</td>\n",
              "    </tr>\n",
              "  </tbody>\n",
              "</table>\n",
              "</div>"
            ],
            "text/plain": [
              "              predicted_approved  predicted_not_approved\n",
              "approved                     289                      35\n",
              "not_approved                  27                     503"
            ]
          },
          "execution_count": 16,
          "metadata": {},
          "output_type": "execute_result"
        }
      ],
      "source": [
        "confmtrx = np.array(confusion_matrix(y_test, preds3))\n",
        "confusion = pd.DataFrame(confmtrx, index=['approved', 'not_approved'],\n",
        "columns=['predicted_approved', 'predicted_not_approved'])\n",
        "confusion\n",
        "#confusion matrix show minor improvement as well"
      ]
    },
    {
      "cell_type": "code",
      "execution_count": null,
      "id": "a79657bc",
      "metadata": {
        "execution": {
          "iopub.execute_input": "2023-11-20T14:31:24.561793Z",
          "iopub.status.busy": "2023-11-20T14:31:24.561386Z",
          "iopub.status.idle": "2023-11-20T14:31:24.682247Z",
          "shell.execute_reply": "2023-11-20T14:31:24.680979Z"
        },
        "papermill": {
          "duration": 0.143437,
          "end_time": "2023-11-20T14:31:24.687244",
          "exception": false,
          "start_time": "2023-11-20T14:31:24.543807",
          "status": "completed"
        },
        "tags": [],
        "id": "a79657bc",
        "outputId": "e782ebe2-1b9c-4f52-add9-099b2b846efe"
      },
      "outputs": [
        {
          "name": "stdout",
          "output_type": "stream",
          "text": [
            "Optimization terminated successfully.\n",
            "         Current function value: 0.221476\n",
            "         Iterations 8\n",
            "                             Logit Regression Results                            \n",
            "=================================================================================\n",
            "Dep. Variable:     loan_status_processed   No. Observations:                 3415\n",
            "Model:                             Logit   Df Residuals:                     3409\n",
            "Method:                              MLE   Df Model:                            5\n",
            "Date:                   Mon, 20 Nov 2023   Pseudo R-squ.:                  0.6658\n",
            "Time:                           14:31:24   Log-Likelihood:                -756.34\n",
            "converged:                          True   LL-Null:                       -2263.5\n",
            "Covariance Type:               nonrobust   LLR p-value:                     0.000\n",
            "==============================================================================\n",
            "                 coef    std err          z      P>|z|      [0.025      0.975]\n",
            "------------------------------------------------------------------------------\n",
            "const          1.8070      0.094     19.236      0.000       1.623       1.991\n",
            "x1            -1.6737      0.250     -6.699      0.000      -2.163      -1.184\n",
            "x2             1.3394      0.181      7.402      0.000       0.985       1.694\n",
            "x3            -0.8642      0.073    -11.894      0.000      -1.007      -0.722\n",
            "x4             4.2664      0.161     26.494      0.000       3.951       4.582\n",
            "x5             0.3747      0.185      2.020      0.043       0.011       0.738\n",
            "==============================================================================\n"
          ]
        }
      ],
      "source": [
        "logit_model=sm.Logit(y_train,sm.add_constant(X_train_scaled))\n",
        "logit_model\n",
        "result=logit_model.fit()\n",
        "stats1=result.summary()\n",
        "print(stats1)\n",
        "#Total wealth show borderline significant"
      ]
    },
    {
      "cell_type": "code",
      "execution_count": null,
      "id": "825816d8",
      "metadata": {
        "execution": {
          "iopub.execute_input": "2023-11-20T14:31:24.738467Z",
          "iopub.status.busy": "2023-11-20T14:31:24.736761Z",
          "iopub.status.idle": "2023-11-20T14:31:24.768033Z",
          "shell.execute_reply": "2023-11-20T14:31:24.766462Z"
        },
        "papermill": {
          "duration": 0.062584,
          "end_time": "2023-11-20T14:31:24.773584",
          "exception": false,
          "start_time": "2023-11-20T14:31:24.711000",
          "status": "completed"
        },
        "tags": [],
        "id": "825816d8",
        "outputId": "c80bcba5-dba5-4987-c3ae-e938fc5dcec1"
      },
      "outputs": [
        {
          "data": {
            "text/html": [
              "<div>\n",
              "<style scoped>\n",
              "    .dataframe tbody tr th:only-of-type {\n",
              "        vertical-align: middle;\n",
              "    }\n",
              "\n",
              "    .dataframe tbody tr th {\n",
              "        vertical-align: top;\n",
              "    }\n",
              "\n",
              "    .dataframe thead th {\n",
              "        text-align: right;\n",
              "    }\n",
              "</style>\n",
              "<table border=\"1\" class=\"dataframe\">\n",
              "  <thead>\n",
              "    <tr style=\"text-align: right;\">\n",
              "      <th></th>\n",
              "      <th>Variable</th>\n",
              "      <th>Odds_ratio</th>\n",
              "    </tr>\n",
              "  </thead>\n",
              "  <tbody>\n",
              "    <tr>\n",
              "      <th>0</th>\n",
              "      <td>income_annum</td>\n",
              "      <td>0.22</td>\n",
              "    </tr>\n",
              "    <tr>\n",
              "      <th>1</th>\n",
              "      <td>loan_amount</td>\n",
              "      <td>3.41</td>\n",
              "    </tr>\n",
              "    <tr>\n",
              "      <th>2</th>\n",
              "      <td>loan_term</td>\n",
              "      <td>0.43</td>\n",
              "    </tr>\n",
              "    <tr>\n",
              "      <th>3</th>\n",
              "      <td>cibil_score</td>\n",
              "      <td>62.68</td>\n",
              "    </tr>\n",
              "    <tr>\n",
              "      <th>4</th>\n",
              "      <td>Total_worth</td>\n",
              "      <td>1.36</td>\n",
              "    </tr>\n",
              "  </tbody>\n",
              "</table>\n",
              "</div>"
            ],
            "text/plain": [
              "        Variable  Odds_ratio\n",
              "0   income_annum        0.22\n",
              "1    loan_amount        3.41\n",
              "2      loan_term        0.43\n",
              "3    cibil_score       62.68\n",
              "4    Total_worth        1.36"
            ]
          },
          "execution_count": 18,
          "metadata": {},
          "output_type": "execute_result"
        }
      ],
      "source": [
        "oddsratio = pd.DataFrame({ 'Variable':X.columns.tolist(),'Odds_ratio': (np.exp(model3.coef_).T).round(2).flatten().tolist()})\n",
        "oddsratio\n",
        "#Cibil has outsized impact"
      ]
    },
    {
      "cell_type": "markdown",
      "id": "00220f2a",
      "metadata": {
        "papermill": {
          "duration": 0.011097,
          "end_time": "2023-11-20T14:31:24.796673",
          "exception": false,
          "start_time": "2023-11-20T14:31:24.785576",
          "status": "completed"
        },
        "tags": [],
        "id": "00220f2a"
      },
      "source": [
        "**Multicollinearlity test**"
      ]
    },
    {
      "cell_type": "code",
      "execution_count": null,
      "id": "154d0e49",
      "metadata": {
        "execution": {
          "iopub.execute_input": "2023-11-20T14:31:24.822408Z",
          "iopub.status.busy": "2023-11-20T14:31:24.822008Z",
          "iopub.status.idle": "2023-11-20T14:31:24.881583Z",
          "shell.execute_reply": "2023-11-20T14:31:24.880083Z"
        },
        "papermill": {
          "duration": 0.078766,
          "end_time": "2023-11-20T14:31:24.887258",
          "exception": false,
          "start_time": "2023-11-20T14:31:24.808492",
          "status": "completed"
        },
        "tags": [],
        "id": "154d0e49",
        "outputId": "c18f60e4-c64e-4924-b175-19398fd4f6e1"
      },
      "outputs": [
        {
          "name": "stdout",
          "output_type": "stream",
          "text": [
            "   VIF Factor       features\n",
            "0        20.1          const\n",
            "1        13.8   income_annum\n",
            "2         7.2    loan_amount\n",
            "3         1.0      loan_term\n",
            "4         1.0    cibil_score\n",
            "5         7.7    Total_worth\n"
          ]
        }
      ],
      "source": [
        "from statsmodels.stats.outliers_influence import variance_inflation_factor\n",
        "\n",
        "# For each X, calculate VIF and save in dataframe\n",
        "x_temp = sm.add_constant(X_train)\n",
        "\n",
        "vif = pd.DataFrame()\n",
        "vif[\"VIF Factor\"] = [variance_inflation_factor(x_temp.values, i) for i in range(x_temp.values.shape[1])]\n",
        "vif[\"features\"] = x_temp.columns\n",
        "print(vif.round(1))\n",
        "\n",
        "# Income, loan amount and total worth are closely related to each others!\n",
        "# Side note, When use only loan amount, loan term and cibil score, the prediction went to 93%. But which banker will approve loan without income statement?"
      ]
    },
    {
      "cell_type": "code",
      "execution_count": null,
      "id": "30d48a25",
      "metadata": {
        "papermill": {
          "duration": 0.024515,
          "end_time": "2023-11-20T14:31:24.940607",
          "exception": false,
          "start_time": "2023-11-20T14:31:24.916092",
          "status": "completed"
        },
        "tags": [],
        "id": "30d48a25"
      },
      "outputs": [],
      "source": []
    }
  ],
  "metadata": {
    "kaggle": {
      "accelerator": "none",
      "dataSources": [
        {
          "datasetId": 3523739,
          "sourceId": 6144787,
          "sourceType": "datasetVersion"
        }
      ],
      "dockerImageVersionId": 30587,
      "isGpuEnabled": false,
      "isInternetEnabled": false,
      "language": "python",
      "sourceType": "notebook"
    },
    "kernelspec": {
      "display_name": "Python 3",
      "language": "python",
      "name": "python3"
    },
    "language_info": {
      "codemirror_mode": {
        "name": "ipython",
        "version": 3
      },
      "file_extension": ".py",
      "mimetype": "text/x-python",
      "name": "python",
      "nbconvert_exporter": "python",
      "pygments_lexer": "ipython3",
      "version": "3.10.12"
    },
    "papermill": {
      "default_parameters": {},
      "duration": 9.526739,
      "end_time": "2023-11-20T14:31:25.704363",
      "environment_variables": {},
      "exception": null,
      "input_path": "__notebook__.ipynb",
      "output_path": "__notebook__.ipynb",
      "parameters": {},
      "start_time": "2023-11-20T14:31:16.177624",
      "version": "2.4.0"
    },
    "colab": {
      "provenance": [],
      "include_colab_link": true
    }
  },
  "nbformat": 4,
  "nbformat_minor": 5
}